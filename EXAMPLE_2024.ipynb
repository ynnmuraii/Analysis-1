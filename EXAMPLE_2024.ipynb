{
 "cells": [
  {
   "cell_type": "markdown",
   "id": "d52dbfdd",
   "metadata": {
    "toc": true
   },
   "source": [
    "<h1>Table of Contents<span class=\"tocSkip\"></span></h1>\n",
    "<div class=\"toc\"><ul class=\"toc-item\"></ul></div>"
   ]
  },
  {
   "cell_type": "code",
   "execution_count": 42,
   "id": "0f15db5d",
   "metadata": {},
   "outputs": [],
   "source": [
    "import math\n",
    "import numpy as np\n",
    "import pandas as pd\n",
    "import matplotlib.pyplot as plt\n",
    "import scipy as sci"
   ]
  },
  {
   "cell_type": "code",
   "execution_count": 43,
   "id": "ec98c7f4",
   "metadata": {},
   "outputs": [],
   "source": [
    "#исходные данные задачи \n",
    "##### PART 1\n",
    "n=50\n",
    "mu, sigma = 0,1 \n",
    "# mean and standard deviation"
   ]
  },
  {
   "cell_type": "code",
   "execution_count": 44,
   "id": "c35cee5d",
   "metadata": {},
   "outputs": [
    {
     "data": {
      "text/plain": [
       "(0.10539559723664689, 1.0468269622955806)"
      ]
     },
     "execution_count": 44,
     "metadata": {},
     "output_type": "execute_result"
    }
   ],
   "source": [
    "s = np.random.normal(mu, sigma, n)\n",
    "a_estimate=np.mean(s)\n",
    "sigma_estimate=np.std(s,ddof=1)\n",
    "(a_estimate,sigma_estimate)"
   ]
  },
  {
   "cell_type": "code",
   "execution_count": 45,
   "id": "b7e4dd86",
   "metadata": {},
   "outputs": [
    {
     "name": "stdout",
     "output_type": "stream",
     "text": [
      "AxesSubplot(0.125,0.125;0.775x0.755)\n"
     ]
    },
    {
     "name": "stderr",
     "output_type": "stream",
     "text": [
      "C:\\Users\\admin\\anaconda3\\lib\\site-packages\\seaborn\\_decorators.py:36: FutureWarning: Pass the following variable as a keyword arg: x. From version 0.12, the only valid positional argument will be `data`, and passing other arguments without an explicit keyword will result in an error or misinterpretation.\n",
      "  warnings.warn(\n"
     ]
    },
    {
     "data": {
      "image/png": "[encoded data removed]",
      "text/plain": [
       "<Figure size 432x288 with 1 Axes>"
      ]
     },
     "metadata": {
      "needs_background": "light"
     },
     "output_type": "display_data"
    }
   ],
   "source": [
    "#### вывод ящика с усами\n",
    "import seaborn as sb\n",
    "W=sb.boxplot(s)\n",
    "print(W)"
   ]
  },
  {
   "cell_type": "code",
   "execution_count": 46,
   "id": "8cc376ec",
   "metadata": {},
   "outputs": [
    {
     "name": "stdout",
     "output_type": "stream",
     "text": [
      "[13 22 13  2]\n",
      "[-1.86851853 -0.63019039  0.60813776  1.84646591  3.08479406]\n"
     ]
    },
    {
     "data": {
      "text/plain": [
       "50"
      ]
     },
     "execution_count": 46,
     "metadata": {},
     "output_type": "execute_result"
    }
   ],
   "source": [
    "count, bin_edges = np.histogram(s,k_bins)\n",
    "### count содержит абсолютные частоты для каждого интервала\n",
    "print(count)\n",
    "print(bin_edges)\n",
    "sum(count)"
   ]
  },
  {
   "cell_type": "code",
   "execution_count": 47,
   "id": "34764fe9",
   "metadata": {},
   "outputs": [
    {
     "data": {
      "text/plain": [
       "50.0"
      ]
     },
     "execution_count": 47,
     "metadata": {},
     "output_type": "execute_result"
    },
    {
     "data": {
      "image/png": "[encoded data removed]",
      "text/plain": [
       "<Figure size 432x288 with 1 Axes>"
      ]
     },
     "metadata": {
      "needs_background": "light"
     },
     "output_type": "display_data"
    }
   ],
   "source": [
    "k_bins=4\n",
    "count, bins, ignored  = plt.hist(s, k_bins)\n",
    "### гистограмма частот: сумма высот прямоугольников равна объему выборки\n",
    "sum(count)"
   ]
  },
  {
   "cell_type": "code",
   "execution_count": null,
   "id": "6f96b39d",
   "metadata": {},
   "outputs": [],
   "source": []
  },
  {
   "cell_type": "code",
   "execution_count": null,
   "id": "9875fa18",
   "metadata": {},
   "outputs": [],
   "source": []
  }
 ],
 "metadata": {
  "kernelspec": {
   "display_name": "Python 3 (ipykernel)",
   "language": "python",
   "name": "python3"
  },
  "language_info": {
   "codemirror_mode": {
    "name": "ipython",
    "version": 3
   },
   "file_extension": ".py",
   "mimetype": "text/x-python",
   "name": "python",
   "nbconvert_exporter": "python",
   "pygments_lexer": "ipython3",
   "version": "3.9.7"
  },
  "toc": {
   "base_numbering": 1,
   "nav_menu": {},
   "number_sections": true,
   "sideBar": true,
   "skip_h1_title": false,
   "title_cell": "Table of Contents",
   "title_sidebar": "Contents",
   "toc_cell": true,
   "toc_position": {},
   "toc_section_display": true,
   "toc_window_display": false
  }
 },
 "nbformat": 4,
 "nbformat_minor": 5
}
